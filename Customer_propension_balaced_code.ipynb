{
 "cells": [
  {
   "cell_type": "code",
   "execution_count": 12,
   "metadata": {},
   "outputs": [
    {
     "data": {
      "text/plain": [
       "(455401, 25)"
      ]
     },
     "execution_count": 12,
     "metadata": {},
     "output_type": "execute_result"
    }
   ],
   "source": [
    "import pandas as pd\n",
    "import numpy as np\n",
    "import matplotlib.pyplot as plt\n",
    "import seaborn as sns\n",
    "\n",
    "df = pd.read_csv (r'training_sample.csv')\n",
    "df.shape"
   ]
  },
  {
   "cell_type": "code",
   "execution_count": 13,
   "metadata": {},
   "outputs": [
    {
     "data": {
      "text/html": [
       "<div>\n",
       "<style scoped>\n",
       "    .dataframe tbody tr th:only-of-type {\n",
       "        vertical-align: middle;\n",
       "    }\n",
       "\n",
       "    .dataframe tbody tr th {\n",
       "        vertical-align: top;\n",
       "    }\n",
       "\n",
       "    .dataframe thead th {\n",
       "        text-align: right;\n",
       "    }\n",
       "</style>\n",
       "<table border=\"1\" class=\"dataframe\">\n",
       "  <thead>\n",
       "    <tr style=\"text-align: right;\">\n",
       "      <th></th>\n",
       "      <th>UserID</th>\n",
       "      <th>basket_icon_click</th>\n",
       "      <th>basket_add_list</th>\n",
       "      <th>basket_add_detail</th>\n",
       "      <th>sort_by</th>\n",
       "      <th>image_picker</th>\n",
       "      <th>account_page_click</th>\n",
       "      <th>promo_banner_click</th>\n",
       "      <th>detail_wishlist_add</th>\n",
       "      <th>list_size_dropdown</th>\n",
       "      <th>...</th>\n",
       "      <th>saw_sizecharts</th>\n",
       "      <th>saw_delivery</th>\n",
       "      <th>saw_account_upgrade</th>\n",
       "      <th>saw_homepage</th>\n",
       "      <th>device_mobile</th>\n",
       "      <th>device_computer</th>\n",
       "      <th>device_tablet</th>\n",
       "      <th>returning_user</th>\n",
       "      <th>loc_uk</th>\n",
       "      <th>ordered</th>\n",
       "    </tr>\n",
       "  </thead>\n",
       "  <tbody>\n",
       "    <tr>\n",
       "      <td>0</td>\n",
       "      <td>a720-6b732349-a720-4862-bd21-644732</td>\n",
       "      <td>0</td>\n",
       "      <td>0</td>\n",
       "      <td>0</td>\n",
       "      <td>0</td>\n",
       "      <td>0</td>\n",
       "      <td>0</td>\n",
       "      <td>0</td>\n",
       "      <td>0</td>\n",
       "      <td>0</td>\n",
       "      <td>...</td>\n",
       "      <td>0</td>\n",
       "      <td>0</td>\n",
       "      <td>0</td>\n",
       "      <td>0</td>\n",
       "      <td>1</td>\n",
       "      <td>0</td>\n",
       "      <td>0</td>\n",
       "      <td>0</td>\n",
       "      <td>1</td>\n",
       "      <td>0</td>\n",
       "    </tr>\n",
       "    <tr>\n",
       "      <td>1</td>\n",
       "      <td>a0c0-6b73247c-a0c0-4bd9-8baa-797356</td>\n",
       "      <td>0</td>\n",
       "      <td>0</td>\n",
       "      <td>0</td>\n",
       "      <td>0</td>\n",
       "      <td>0</td>\n",
       "      <td>0</td>\n",
       "      <td>0</td>\n",
       "      <td>0</td>\n",
       "      <td>0</td>\n",
       "      <td>...</td>\n",
       "      <td>0</td>\n",
       "      <td>0</td>\n",
       "      <td>0</td>\n",
       "      <td>0</td>\n",
       "      <td>1</td>\n",
       "      <td>0</td>\n",
       "      <td>0</td>\n",
       "      <td>0</td>\n",
       "      <td>1</td>\n",
       "      <td>0</td>\n",
       "    </tr>\n",
       "  </tbody>\n",
       "</table>\n",
       "<p>2 rows × 25 columns</p>\n",
       "</div>"
      ],
      "text/plain": [
       "                                UserID  basket_icon_click  basket_add_list  \\\n",
       "0  a720-6b732349-a720-4862-bd21-644732                  0                0   \n",
       "1  a0c0-6b73247c-a0c0-4bd9-8baa-797356                  0                0   \n",
       "\n",
       "   basket_add_detail  sort_by  image_picker  account_page_click  \\\n",
       "0                  0        0             0                   0   \n",
       "1                  0        0             0                   0   \n",
       "\n",
       "   promo_banner_click  detail_wishlist_add  list_size_dropdown  ...  \\\n",
       "0                   0                    0                   0  ...   \n",
       "1                   0                    0                   0  ...   \n",
       "\n",
       "   saw_sizecharts  saw_delivery  saw_account_upgrade  saw_homepage  \\\n",
       "0               0             0                    0             0   \n",
       "1               0             0                    0             0   \n",
       "\n",
       "   device_mobile  device_computer  device_tablet  returning_user  loc_uk  \\\n",
       "0              1                0              0               0       1   \n",
       "1              1                0              0               0       1   \n",
       "\n",
       "   ordered  \n",
       "0        0  \n",
       "1        0  \n",
       "\n",
       "[2 rows x 25 columns]"
      ]
     },
     "execution_count": 13,
     "metadata": {},
     "output_type": "execute_result"
    }
   ],
   "source": [
    "df.head(2)"
   ]
  },
  {
   "cell_type": "code",
   "execution_count": 14,
   "metadata": {
    "scrolled": true
   },
   "outputs": [
    {
     "data": {
      "text/plain": [
       "UserID                     object\n",
       "basket_icon_click           int64\n",
       "basket_add_list             int64\n",
       "basket_add_detail           int64\n",
       "sort_by                     int64\n",
       "image_picker                int64\n",
       "account_page_click          int64\n",
       "promo_banner_click          int64\n",
       "detail_wishlist_add         int64\n",
       "list_size_dropdown          int64\n",
       "closed_minibasket_click     int64\n",
       "checked_delivery_detail     int64\n",
       "checked_returns_detail      int64\n",
       "sign_in                     int64\n",
       "saw_checkout                int64\n",
       "saw_sizecharts              int64\n",
       "saw_delivery                int64\n",
       "saw_account_upgrade         int64\n",
       "saw_homepage                int64\n",
       "device_mobile               int64\n",
       "device_computer             int64\n",
       "device_tablet               int64\n",
       "returning_user              int64\n",
       "loc_uk                      int64\n",
       "ordered                     int64\n",
       "dtype: object"
      ]
     },
     "execution_count": 14,
     "metadata": {},
     "output_type": "execute_result"
    }
   ],
   "source": [
    "#listing = df.select_dtypes(exclude = 'object')\n",
    "col_types = df.dtypes\n",
    "col_types.head(60)"
   ]
  },
  {
   "cell_type": "code",
   "execution_count": 15,
   "metadata": {},
   "outputs": [
    {
     "data": {
      "text/plain": [
       "Index(['UserID', 'basket_icon_click', 'basket_add_list', 'basket_add_detail',\n",
       "       'sort_by', 'image_picker', 'account_page_click', 'promo_banner_click',\n",
       "       'detail_wishlist_add', 'list_size_dropdown', 'closed_minibasket_click',\n",
       "       'checked_delivery_detail', 'checked_returns_detail', 'sign_in',\n",
       "       'saw_checkout', 'saw_sizecharts', 'saw_delivery', 'saw_account_upgrade',\n",
       "       'saw_homepage', 'device_mobile', 'device_computer', 'device_tablet',\n",
       "       'returning_user', 'loc_uk', 'ordered'],\n",
       "      dtype='object')"
      ]
     },
     "execution_count": 15,
     "metadata": {},
     "output_type": "execute_result"
    }
   ],
   "source": [
    "df.columns"
   ]
  },
  {
   "cell_type": "code",
   "execution_count": 16,
   "metadata": {},
   "outputs": [],
   "source": [
    "pred_model = df[['UserID', 'basket_icon_click', 'basket_add_list', 'basket_add_detail',\n",
    "       'sort_by', 'image_picker', 'account_page_click', 'promo_banner_click',\n",
    "       'detail_wishlist_add', 'list_size_dropdown', 'closed_minibasket_click',\n",
    "       'checked_delivery_detail', 'checked_returns_detail', 'sign_in',\n",
    "       'saw_checkout', 'saw_sizecharts', 'saw_delivery', 'saw_account_upgrade',\n",
    "       'saw_homepage', 'device_mobile', 'device_computer', 'device_tablet',\n",
    "       'returning_user', 'loc_uk', 'ordered']]"
   ]
  },
  {
   "cell_type": "code",
   "execution_count": 17,
   "metadata": {},
   "outputs": [
    {
     "data": {
      "text/plain": [
       "UserID                     object\n",
       "basket_icon_click           int64\n",
       "basket_add_list             int64\n",
       "basket_add_detail           int64\n",
       "sort_by                     int64\n",
       "image_picker                int64\n",
       "account_page_click          int64\n",
       "promo_banner_click          int64\n",
       "detail_wishlist_add         int64\n",
       "list_size_dropdown          int64\n",
       "closed_minibasket_click     int64\n",
       "checked_delivery_detail     int64\n",
       "checked_returns_detail      int64\n",
       "sign_in                     int64\n",
       "saw_checkout                int64\n",
       "saw_sizecharts              int64\n",
       "saw_delivery                int64\n",
       "saw_account_upgrade         int64\n",
       "saw_homepage                int64\n",
       "device_mobile               int64\n",
       "device_computer             int64\n",
       "device_tablet               int64\n",
       "returning_user              int64\n",
       "loc_uk                      int64\n",
       "ordered                     int64\n",
       "dtype: object"
      ]
     },
     "execution_count": 17,
     "metadata": {},
     "output_type": "execute_result"
    }
   ],
   "source": [
    "pred_model.shape\n",
    "model_cols = pred_model.dtypes\n",
    "model_cols"
   ]
  },
  {
   "cell_type": "code",
   "execution_count": 18,
   "metadata": {},
   "outputs": [],
   "source": [
    "#model_columns = pred_model.columns\n",
    "#pred_model[model_columns] = pred_model[model_columns].replace({'\\$':''}, regex = True)\n",
    "#pred_model.head()"
   ]
  },
  {
   "cell_type": "code",
   "execution_count": 24,
   "metadata": {},
   "outputs": [
    {
     "data": {
      "text/html": [
       "<div>\n",
       "<style scoped>\n",
       "    .dataframe tbody tr th:only-of-type {\n",
       "        vertical-align: middle;\n",
       "    }\n",
       "\n",
       "    .dataframe tbody tr th {\n",
       "        vertical-align: top;\n",
       "    }\n",
       "\n",
       "    .dataframe thead th {\n",
       "        text-align: right;\n",
       "    }\n",
       "</style>\n",
       "<table border=\"1\" class=\"dataframe\">\n",
       "  <thead>\n",
       "    <tr style=\"text-align: right;\">\n",
       "      <th></th>\n",
       "      <th>UserID</th>\n",
       "      <th>basket_icon_click</th>\n",
       "      <th>basket_add_list</th>\n",
       "      <th>basket_add_detail</th>\n",
       "      <th>sort_by</th>\n",
       "      <th>image_picker</th>\n",
       "      <th>account_page_click</th>\n",
       "      <th>promo_banner_click</th>\n",
       "      <th>detail_wishlist_add</th>\n",
       "      <th>list_size_dropdown</th>\n",
       "      <th>...</th>\n",
       "      <th>saw_sizecharts</th>\n",
       "      <th>saw_delivery</th>\n",
       "      <th>saw_account_upgrade</th>\n",
       "      <th>saw_homepage</th>\n",
       "      <th>device_mobile</th>\n",
       "      <th>device_computer</th>\n",
       "      <th>device_tablet</th>\n",
       "      <th>returning_user</th>\n",
       "      <th>loc_uk</th>\n",
       "      <th>ordered</th>\n",
       "    </tr>\n",
       "  </thead>\n",
       "  <tbody>\n",
       "    <tr>\n",
       "      <td>0</td>\n",
       "      <td>a720-6b732349-a720-4862-bd21-644732</td>\n",
       "      <td>0</td>\n",
       "      <td>0</td>\n",
       "      <td>0</td>\n",
       "      <td>0</td>\n",
       "      <td>0</td>\n",
       "      <td>0</td>\n",
       "      <td>0</td>\n",
       "      <td>0</td>\n",
       "      <td>0</td>\n",
       "      <td>...</td>\n",
       "      <td>0</td>\n",
       "      <td>0</td>\n",
       "      <td>0</td>\n",
       "      <td>0</td>\n",
       "      <td>1</td>\n",
       "      <td>0</td>\n",
       "      <td>0</td>\n",
       "      <td>0</td>\n",
       "      <td>1</td>\n",
       "      <td>0</td>\n",
       "    </tr>\n",
       "    <tr>\n",
       "      <td>1</td>\n",
       "      <td>a0c0-6b73247c-a0c0-4bd9-8baa-797356</td>\n",
       "      <td>0</td>\n",
       "      <td>0</td>\n",
       "      <td>0</td>\n",
       "      <td>0</td>\n",
       "      <td>0</td>\n",
       "      <td>0</td>\n",
       "      <td>0</td>\n",
       "      <td>0</td>\n",
       "      <td>0</td>\n",
       "      <td>...</td>\n",
       "      <td>0</td>\n",
       "      <td>0</td>\n",
       "      <td>0</td>\n",
       "      <td>0</td>\n",
       "      <td>1</td>\n",
       "      <td>0</td>\n",
       "      <td>0</td>\n",
       "      <td>0</td>\n",
       "      <td>1</td>\n",
       "      <td>0</td>\n",
       "    </tr>\n",
       "    <tr>\n",
       "      <td>2</td>\n",
       "      <td>86a8-6b735c67-86a8-407b-ba24-333055</td>\n",
       "      <td>0</td>\n",
       "      <td>0</td>\n",
       "      <td>0</td>\n",
       "      <td>0</td>\n",
       "      <td>0</td>\n",
       "      <td>0</td>\n",
       "      <td>0</td>\n",
       "      <td>0</td>\n",
       "      <td>0</td>\n",
       "      <td>...</td>\n",
       "      <td>0</td>\n",
       "      <td>0</td>\n",
       "      <td>0</td>\n",
       "      <td>0</td>\n",
       "      <td>1</td>\n",
       "      <td>0</td>\n",
       "      <td>0</td>\n",
       "      <td>1</td>\n",
       "      <td>1</td>\n",
       "      <td>0</td>\n",
       "    </tr>\n",
       "    <tr>\n",
       "      <td>3</td>\n",
       "      <td>6a3d-6b736346-6a3d-4085-934b-396834</td>\n",
       "      <td>0</td>\n",
       "      <td>0</td>\n",
       "      <td>0</td>\n",
       "      <td>0</td>\n",
       "      <td>0</td>\n",
       "      <td>0</td>\n",
       "      <td>0</td>\n",
       "      <td>0</td>\n",
       "      <td>0</td>\n",
       "      <td>...</td>\n",
       "      <td>0</td>\n",
       "      <td>0</td>\n",
       "      <td>0</td>\n",
       "      <td>0</td>\n",
       "      <td>1</td>\n",
       "      <td>0</td>\n",
       "      <td>0</td>\n",
       "      <td>1</td>\n",
       "      <td>1</td>\n",
       "      <td>0</td>\n",
       "    </tr>\n",
       "    <tr>\n",
       "      <td>4</td>\n",
       "      <td>b74a-6b737717-b74a-45c3-8c6a-421140</td>\n",
       "      <td>0</td>\n",
       "      <td>1</td>\n",
       "      <td>0</td>\n",
       "      <td>1</td>\n",
       "      <td>0</td>\n",
       "      <td>0</td>\n",
       "      <td>0</td>\n",
       "      <td>0</td>\n",
       "      <td>1</td>\n",
       "      <td>...</td>\n",
       "      <td>0</td>\n",
       "      <td>0</td>\n",
       "      <td>0</td>\n",
       "      <td>1</td>\n",
       "      <td>0</td>\n",
       "      <td>0</td>\n",
       "      <td>1</td>\n",
       "      <td>0</td>\n",
       "      <td>1</td>\n",
       "      <td>1</td>\n",
       "    </tr>\n",
       "  </tbody>\n",
       "</table>\n",
       "<p>5 rows × 25 columns</p>\n",
       "</div>"
      ],
      "text/plain": [
       "                                UserID  basket_icon_click  basket_add_list  \\\n",
       "0  a720-6b732349-a720-4862-bd21-644732                  0                0   \n",
       "1  a0c0-6b73247c-a0c0-4bd9-8baa-797356                  0                0   \n",
       "2  86a8-6b735c67-86a8-407b-ba24-333055                  0                0   \n",
       "3  6a3d-6b736346-6a3d-4085-934b-396834                  0                0   \n",
       "4  b74a-6b737717-b74a-45c3-8c6a-421140                  0                1   \n",
       "\n",
       "   basket_add_detail  sort_by  image_picker  account_page_click  \\\n",
       "0                  0        0             0                   0   \n",
       "1                  0        0             0                   0   \n",
       "2                  0        0             0                   0   \n",
       "3                  0        0             0                   0   \n",
       "4                  0        1             0                   0   \n",
       "\n",
       "   promo_banner_click  detail_wishlist_add  list_size_dropdown  ...  \\\n",
       "0                   0                    0                   0  ...   \n",
       "1                   0                    0                   0  ...   \n",
       "2                   0                    0                   0  ...   \n",
       "3                   0                    0                   0  ...   \n",
       "4                   0                    0                   1  ...   \n",
       "\n",
       "   saw_sizecharts  saw_delivery  saw_account_upgrade  saw_homepage  \\\n",
       "0               0             0                    0             0   \n",
       "1               0             0                    0             0   \n",
       "2               0             0                    0             0   \n",
       "3               0             0                    0             0   \n",
       "4               0             0                    0             1   \n",
       "\n",
       "   device_mobile  device_computer  device_tablet  returning_user  loc_uk  \\\n",
       "0              1                0              0               0       1   \n",
       "1              1                0              0               0       1   \n",
       "2              1                0              0               1       1   \n",
       "3              1                0              0               1       1   \n",
       "4              0                0              1               0       1   \n",
       "\n",
       "   ordered  \n",
       "0        0  \n",
       "1        0  \n",
       "2        0  \n",
       "3        0  \n",
       "4        1  \n",
       "\n",
       "[5 rows x 25 columns]"
      ]
     },
     "execution_count": 24,
     "metadata": {},
     "output_type": "execute_result"
    }
   ],
   "source": [
    "pred_model.head()"
   ]
  },
  {
   "cell_type": "code",
   "execution_count": 20,
   "metadata": {},
   "outputs": [
    {
     "data": {
      "text/plain": [
       "UserID                     0\n",
       "basket_icon_click          0\n",
       "basket_add_list            0\n",
       "basket_add_detail          0\n",
       "sort_by                    0\n",
       "image_picker               0\n",
       "account_page_click         0\n",
       "promo_banner_click         0\n",
       "detail_wishlist_add        0\n",
       "list_size_dropdown         0\n",
       "closed_minibasket_click    0\n",
       "checked_delivery_detail    0\n",
       "checked_returns_detail     0\n",
       "sign_in                    0\n",
       "saw_checkout               0\n",
       "saw_sizecharts             0\n",
       "saw_delivery               0\n",
       "saw_account_upgrade        0\n",
       "saw_homepage               0\n",
       "device_mobile              0\n",
       "device_computer            0\n",
       "device_tablet              0\n",
       "returning_user             0\n",
       "loc_uk                     0\n",
       "ordered                    0\n",
       "dtype: int64"
      ]
     },
     "execution_count": 20,
     "metadata": {},
     "output_type": "execute_result"
    }
   ],
   "source": [
    "pred_model.isnull().sum()"
   ]
  },
  {
   "cell_type": "code",
   "execution_count": 21,
   "metadata": {},
   "outputs": [],
   "source": [
    "#pred_mod = pred_model[pred_model['review_scores_accuracy'].notna()]\n",
    "#pred_mod = pred_mod[pred_model['host_is_superhost'].notna()] "
   ]
  },
  {
   "cell_type": "code",
   "execution_count": 25,
   "metadata": {},
   "outputs": [
    {
     "data": {
      "text/plain": [
       "<matplotlib.axes._subplots.AxesSubplot at 0x11b5d02d0>"
      ]
     },
     "execution_count": 25,
     "metadata": {},
     "output_type": "execute_result"
    },
    {
     "data": {
      "image/png": "[encoded data removed]",
      "text/plain": [
       "<Figure size 432x288 with 1 Axes>"
      ]
     },
     "metadata": {
      "needs_background": "light"
     },
     "output_type": "display_data"
    }
   ],
   "source": [
    "# Check if the data is balanced\n",
    "sns.countplot(x = 'ordered', data = pred_model, palette = 'Set3' )"
   ]
  },
  {
   "cell_type": "code",
   "execution_count": 36,
   "metadata": {},
   "outputs": [
    {
     "data": {
      "text/plain": [
       "19093"
      ]
     },
     "execution_count": 36,
     "metadata": {},
     "output_type": "execute_result"
    }
   ],
   "source": [
    "count_0, count_1 = pred_model['ordered'].value_counts()\n",
    "count_1"
   ]
  },
  {
   "cell_type": "code",
   "execution_count": 37,
   "metadata": {},
   "outputs": [
    {
     "name": "stdout",
     "output_type": "stream",
     "text": [
      "class 0: (436308, 25)\n",
      "class 1: (19093, 25)\n"
     ]
    }
   ],
   "source": [
    "# Separate class\n",
    "class_0 = pred_model[pred_model['ordered'] == 0]\n",
    "class_1 = pred_model[pred_model['ordered'] == 1]# print the shape of the class\n",
    "print('class 0:', class_0.shape)\n",
    "print('class 1:', class_1.shape)"
   ]
  },
  {
   "cell_type": "code",
   "execution_count": 42,
   "metadata": {},
   "outputs": [
    {
     "name": "stdout",
     "output_type": "stream",
     "text": [
      "(38186, 25)\n",
      "total class of 1 and 0: 1    19093\n",
      "0    19093\n",
      "Name: ordered, dtype: int64\n"
     ]
    },
    {
     "data": {
      "text/plain": [
       "<matplotlib.axes._subplots.AxesSubplot at 0x11ddbf190>"
      ]
     },
     "execution_count": 42,
     "metadata": {},
     "output_type": "execute_result"
    },
    {
     "data": {
      "image/png": "[encoded data removed]",
      "text/plain": [
       "<Figure size 432x288 with 1 Axes>"
      ]
     },
     "metadata": {
      "needs_background": "light"
     },
     "output_type": "display_data"
    }
   ],
   "source": [
    "resample = class_0.sample(count_1, replace=True)\n",
    "\n",
    "prediction_model = pd.concat([resample, class_1], axis=0)\n",
    "\n",
    "print(prediction_model.shape)\n",
    "\n",
    "print(\"total class of 1 and 0:\",prediction_model['ordered'].value_counts())# plot the count after under-sampeling\n",
    "prediction_model['ordered'].value_counts().plot(kind='bar', title='count (target)')"
   ]
  },
  {
   "cell_type": "code",
   "execution_count": null,
   "metadata": {},
   "outputs": [],
   "source": [
    "prediction_model.to_csv(r'Path where you want to store the exported CSV file\\File Name.csv')"
   ]
  }
 ],
 "metadata": {
  "kernelspec": {
   "display_name": "Python 3",
   "language": "python",
   "name": "python3"
  },
  "language_info": {
   "codemirror_mode": {
    "name": "ipython",
    "version": 3
   },
   "file_extension": ".py",
   "mimetype": "text/x-python",
   "name": "python",
   "nbconvert_exporter": "python",
   "pygments_lexer": "ipython3",
   "version": "3.7.4"
  }
 },
 "nbformat": 4,
 "nbformat_minor": 2
}
